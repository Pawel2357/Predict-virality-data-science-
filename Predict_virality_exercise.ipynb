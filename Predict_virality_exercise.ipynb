{
 "cells": [
  {
   "cell_type": "markdown",
   "metadata": {},
   "source": [
    "[Exercise description](https://drive.google.com/open?id=0B_TWylekorH3dUFRMXhhQjdDUE0)\n",
    "\n",
    "[Scikits learn notes](https://drive.google.com/open?id=0B_TWylekorH3LWo0NllWWGFkNDQ)\n",
    "\n",
    "## Understanding the challenge\n",
    "\n",
    "v(n) - number of views after n hours.\n",
    "\n",
    "### Note: \n",
    "\n",
    "- First look at data.csv The number of views vary from movie to movie. Some of them started from 0 and other not. Some movies had the same views in different months.\n",
    "\n",
    "1) Read in the data.csv file and analyse the basic statistics of the v(n) or n = 24, 72, 168."
   ]
  },
  {
   "cell_type": "code",
   "execution_count": null,
   "metadata": {
    "collapsed": true
   },
   "outputs": [],
   "source": []
  },
  {
   "cell_type": "markdown",
   "metadata": {},
   "source": [
    "2) Plot the distribution of the v(168). How would you describe the distribution of the views?\n",
    "\n",
    "### Note: I can calculate mean and variance."
   ]
  },
  {
   "cell_type": "code",
   "execution_count": null,
   "metadata": {
    "collapsed": true
   },
   "outputs": [],
   "source": []
  },
  {
   "cell_type": "markdown",
   "metadata": {},
   "source": [
    "3) Plot the distribution of the log transformed v(168). Does it ring a bell?\n",
    "\n",
    "### Question What mean log transformed? Why log transformed?\n",
    "\n",
    "Log transformed means log( variable )"
   ]
  },
  {
   "cell_type": "code",
   "execution_count": null,
   "metadata": {
    "collapsed": true
   },
   "outputs": [],
   "source": []
  }
 ],
 "metadata": {
  "kernelspec": {
   "display_name": "Python 2",
   "language": "python",
   "name": "python2"
  },
  "language_info": {
   "codemirror_mode": {
    "name": "ipython",
    "version": 2
   },
   "file_extension": ".py",
   "mimetype": "text/x-python",
   "name": "python",
   "nbconvert_exporter": "python",
   "pygments_lexer": "ipython2",
   "version": "2.7.10"
  }
 },
 "nbformat": 4,
 "nbformat_minor": 0
}
