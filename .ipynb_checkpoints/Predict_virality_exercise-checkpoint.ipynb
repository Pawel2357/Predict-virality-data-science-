{
 "cells": [
  {
   "cell_type": "markdown",
   "metadata": {},
   "source": [
    "[Exercise description](https://drive.google.com/open?id=0B_TWylekorH3dUFRMXhhQjdDUE0)\n",
    "\n",
    "[Scikits learn notes](https://drive.google.com/open?id=0B_TWylekorH3LWo0NllWWGFkNDQ)\n",
    "\n",
    "## Understanding the challenge\n",
    "\n",
    "v(n) - number of views after n hours.\n",
    "\n",
    "### Note: \n",
    "\n",
    "- First look at data.csv The number of views vary from movie to movie. Some of them started from 0 and other not. Some movies had the same views in different months.\n",
    "\n",
    "- Are the movies the same type? Do they vary between each other?\n",
    "\n",
    "## 1) Read in the data.csv file and analyse the basic statistics of the v(n) or n = 24, 72, 168.\n",
    "\n",
    "- calculate mean of v(24), variance of v(24), median, 1st quater and 3rd quater. Plot v(24) y axis and id x axis. the same for n = 72 and 168.\n",
    "- plot mean( v(n) ). \n",
    "- plot linear fit for each of n.\n",
    "- compare movies with highest views to lowest views. Calculate it for n = 24, 72 and 168. Plot resuts v(n) for each of them.\n",
    "- Why there are differences between movie views? \n",
    "Maybe some of the movies stopped to be popular. \n",
    "Maybe some of the movies are more popular. \n",
    "- What is a source of data? How movies vary each other? Those are movies from single facebook page.\n",
    "- Add slider in order to go through each of the movies v(n).\n",
    "\n",
    "Some movies may become popular and other not. Why?\n",
    "What is a characteristic of successful movie? What is a curve for successful movie?"
   ]
  },
  {
   "cell_type": "code",
   "execution_count": 57,
   "metadata": {
    "collapsed": false
   },
   "outputs": [],
   "source": [
    "import numpy as np\n",
    "import pandas as pd\n",
    "import pylab as py\n",
    "from ipywidgets import *"
   ]
  },
  {
   "cell_type": "code",
   "execution_count": 58,
   "metadata": {
    "collapsed": false,
    "scrolled": false
   },
   "outputs": [
    {
     "name": "stdout",
     "output_type": "stream",
     "text": [
      "                                 0       1       2       3       4       5    \\\n",
      "0    341163402640457_880901755333283       0   48059   61152   70036   77636   \n",
      "1    341163402640457_880956415327817   41457   82351  121691  162281  202702   \n",
      "2    341163402640457_880993045324154   54229   94312  125887  150893  171727   \n",
      "3    341163402640457_881021215321337   61661  113998  156881  194734  225624   \n",
      "4    341163402640457_881059645317494   22581   34326   42179   48756   54004   \n",
      "5    341163402640457_881099615313497   20540   33373   42701   50692   57932   \n",
      "6    341163402640457_881211871968938   25320   34662   40844   44902   48390   \n",
      "7    341163402640457_881213071968818    9784   14718   16820   18857   20540   \n",
      "8    341163402640457_881231368633655   33013   54891   70866   83587   95715   \n",
      "9    341163402640457_881248731965252   19899   32366   41344   49673   59047   \n",
      "10   341163402640457_881450058611786   52320   99506  143865  190600  238910   \n",
      "11   341163402640457_881490075274451   40572   73043   99217  123030  144813   \n",
      "12   341163402640457_881542895269169   22302   34187   42052   48926   54973   \n",
      "13   341163402640457_881536535269805   30515   54983   72353   87577  101237   \n",
      "14   341163402640457_881537488603043   25119   42022   54518   64794   74339   \n",
      "15   341163402640457_881541551935970   22459   36145   45843   53274   58714   \n",
      "16   341163402640457_881538971936228   28694   44395   55010   63102   70013   \n",
      "17   341163402640457_881976811892444   39036   75148  107776  135934  160600   \n",
      "18   341163402640457_882005641889561   22295   35358   44046   50940   57174   \n",
      "19   341163402640457_882070818549710   24281   37705   48460   58072   65950   \n",
      "20   341163402640457_882129721877153   12564   19054   23177   26328   29069   \n",
      "21   341163402640457_882086028548189   14699   24172   30986   36282   40739   \n",
      "22   341163402640457_882130508543741   25222   38562   47610   54807   60744   \n",
      "23   341163402640457_882568245166634   13407   22385   28776   33806   38035   \n",
      "24   341163402640457_882686611821464   23359   34009   40827   46179   50566   \n",
      "25   341163402640457_882803961809729   37148   61544   78406   90852  101640   \n",
      "26   341163402640457_882812715142187   33548   55797   71227   82447   91482   \n",
      "27   341163402640457_882898248466967    8761   13081   15953   17969   19475   \n",
      "28   341163402640457_882816961808429   18645   27270   32485   36691   40468   \n",
      "29   341163402640457_883298298426962   15343   23008   28021   31691   35155   \n",
      "..                               ...     ...     ...     ...     ...     ...   \n",
      "886  341163402640457_933169863439805   46330   73480   92227  106344  118143   \n",
      "887  341163402640457_932655966824528   18650   26658   32040   36474   39792   \n",
      "888  341163402640457_933171183439673   48897   75268   92179  104784  115510   \n",
      "889  341163402640457_933172433439548   25898   36300   43838   49621   54315   \n",
      "890  341163402640457_933174213439370   15986   24466   29767   34005   37696   \n",
      "891  341163402640457_933475166742608   33578   52847   65344   75010   82787   \n",
      "892  341163402640457_933495286740596   49925   79345   98661  112716  123862   \n",
      "893  341163402640457_933557480067710   59463   92408  114605  132685  148641   \n",
      "894  341163402640457_933561083400683  106835  185477  251258  319328  391084   \n",
      "895  341163402640457_933576320065826   58160   93189  117405  135715  152181   \n",
      "896  341163402640457_933660340057424   55417   89354  115339  135562  149880   \n",
      "897  341163402640457_933686296721495   64897  103218  128576  146306  159548   \n",
      "898  341163402640457_933581546731970   26997   37000   43413   47547   50930   \n",
      "899  341163402640457_933583170065141   37863   57222   67926   75722   82115   \n",
      "900  341163402640457_933584916731633   45970   68542   82907   94927  107307   \n",
      "901  341163402640457_933905160032942   41473   64591   82560   96200  106199   \n",
      "902  341163402640457_933887906701334   40193   63399   78587   89615   97964   \n",
      "903  341163402640457_933930263363765   35254   52362   63591   71593   77958   \n",
      "904  341163402640457_933949820028476  110909  216981  311702  398281  478521   \n",
      "905  341163402640457_933996713357120   34377   51669   63070   72427   80663   \n",
      "906  341163402640457_934024513354340   83709  153703  212866  269168  319846   \n",
      "907  341163402640457_934047496685375   42678   66795   82342   94541  104982   \n",
      "908  341163402640457_934073083349483   57627   93990  118930  138726  156481   \n",
      "909  341163402640457_934095386680586   27830   41330   50033   57168   63474   \n",
      "910  341163402640457_934125340010924  119680  215699  302126  432612  539679   \n",
      "911  341163402640457_934132850010173   87056  166077  274434  425802  568164   \n",
      "912  341163402640457_934134900009968   93774  156755  200368  233777  259284   \n",
      "913  341163402640457_934147330008725   44762   66194   78378   87832   97156   \n",
      "914  341163402640457_934148670008591   50474   81430  106193  135358  167424   \n",
      "915  341163402640457_934456693311122   46721   73146   90254  102066  112345   \n",
      "\n",
      "        6       7       8       9     ...         159      160      161  \\\n",
      "0     84999   91436   96926  101260   ...      146636   146673   146698   \n",
      "1    241761  278878  314355  347958   ...     1947135  1948609  1950140   \n",
      "2    189382  205866  220667  234427   ...      627780   631509   635930   \n",
      "3    255281  282687  307369  329960   ...     1223954  1226818  1229271   \n",
      "4     58748   62944   66424   69449   ...      114291   114322   114342   \n",
      "5     63788   68611   72270   75336   ...      152985   153006   153060   \n",
      "6     51656   54895   58687   63414   ...      112364   112399   112445   \n",
      "7     22015   23710   26100   28488   ...       68047    68125    68167   \n",
      "8    108525  126897  150970  177006   ...      708485   708621   708765   \n",
      "9     72074   87517  101940  117222   ...      256274   256351   256418   \n",
      "10   288375  340900  396782  454810   ...     5378311  5386765  5393761   \n",
      "11   164715  182715  199049  214115   ...     1662756  1663554  1664106   \n",
      "12    60149   60149   60149   71895   ...      139094   139127   139163   \n",
      "13   114474  126462  137402  147280   ...      409348   409404   409469   \n",
      "14    85260   95808  105591  114361   ...      334191   334233   334269   \n",
      "15    63239   67320   70621   74578   ...      270355   271854   273659   \n",
      "16    76432   82994   90267   98831   ...      197384   197413   197451   \n",
      "17   182738  203005  222172  239750   ...      925407   925882   926293   \n",
      "18    62448   67220   71812   75983   ...      154992   155037   155068   \n",
      "19    72600   78700   84344   89573   ...      192960   192968   192981   \n",
      "20    31449   33613   35603   37474   ...       64725    64738    64747   \n",
      "21    45013   48556   51507   54532   ...      133385   133492   133604   \n",
      "22    65449   69863   73677   76729   ...      144909   144935   144948   \n",
      "23    41819   45072   48052   50850   ...      115597   115693   115773   \n",
      "24    53885   56343   58275   60078   ...       81721    81726    81728   \n",
      "25   112677  122759  131916  140216   ...      389312   389355   389395   \n",
      "26    98876  105307  111346  116529   ...      202964   203040   203133   \n",
      "27    20764   21909   23190   24537   ...       41383    41389    41399   \n",
      "28    44886   50099   55459   60614   ...      110519   110534   110555   \n",
      "29    37635   40587   43239   45479   ...       95043    95115    95174   \n",
      "..      ...     ...     ...     ...   ...         ...      ...      ...   \n",
      "886  128007  135906  143256  149555   ...      277597   277613   277633   \n",
      "887   42732   45356   47609   49558   ...      101374   101387   101391   \n",
      "888  124657  132756  139766  146294   ...      285194   285211   285237   \n",
      "889   58573   62320   66735   72177   ...      136697   136711   136716   \n",
      "890   41174   45283   50588   56370   ...      142220   142231   142244   \n",
      "891   88843   94129   98611  102806   ...      151484   151494   151498   \n",
      "892  133054  141008  148138  154511   ...      239912   239920   239928   \n",
      "893  162154  173530  183680  192888   ...      338628   338693   338721   \n",
      "894  457433  523996  582723  630966   ...     3285956  3286999  3288817   \n",
      "895  167318  179991  190437  199556   ...      360720   360725   360739   \n",
      "896  162182  172840  182139  189986   ...      346813   346862   346907   \n",
      "897  170087  178995  186573  193729   ...      391704   391944   392140   \n",
      "898   53892   56397   58985   61949   ...      110367   110371   110391   \n",
      "899   88087   94486  102007  110464   ...      554892   559401   563839   \n",
      "900  121879  139035  156503  172589   ...      547412   549893   552121   \n",
      "901  114167  121329  127745  133675   ...      214568   214585   214610   \n",
      "902  104226  108802  113138  117035   ...      159972   160043   160132   \n",
      "903   83393   88459   93290   97638   ...      153680   153721   153785   \n",
      "904  553937  621664  681906  738104   ...     1538872  1539145  1539357   \n",
      "905   87882   94266   99902  104963   ...      164168   164195   164217   \n",
      "906  365438  407783  446634  481600   ...     1421863  1425322  1428687   \n",
      "907  114417  122694  130042  136749   ...      222394   222428   222453   \n",
      "908  173096  188058  201062  211796   ...      466665   466707   466756   \n",
      "909   68784   72872   76042   78644   ...      117434   117451   117451   \n",
      "910  629935  704332  759951  800970   ...     2357794  2357931  2358047   \n",
      "911  675559  743172  787335  821566   ...     4669906  4671943  4673943   \n",
      "912  278679  294868  310873  329161   ...     1247443  1248277  1249181   \n",
      "913  108154  121257  134989  148128   ...      241975   241982   241991   \n",
      "914  203151  241916  282884  316136   ...      807927   808016   808123   \n",
      "915  119363  125467  131494  137497   ...      200331   200341   200355   \n",
      "\n",
      "         162      163      164      165      166      167      168  \n",
      "0     146731   146745   146779   146801   146834   146862   146880  \n",
      "1    1951974  1954527  1957281  1961155  1965494  1969985  1974771  \n",
      "2     640642   644468   648113   650700   654185   658586   663352  \n",
      "3    1232155  1235054  1238125  1241653  1245985  1250054  1254839  \n",
      "4     114359   114409   114444   114494   114518   114534   114546  \n",
      "5     153106   153145   153184   153219   153251   153298   153338  \n",
      "6     112474   112499   112522   112558   112610   112652   112673  \n",
      "7      68200    68247    68310    68395    68472    68533    68607  \n",
      "8     708817   708981   709135   709241   709335   709431   709488  \n",
      "9     256450   256565   256626   256658   256712   256737   256805  \n",
      "10   5399637  5404966  5410836  5418398  5427668  5438579  5449679  \n",
      "11   1664945  1666116  1667564  1669307  1671774  1674338  1676635  \n",
      "12    139224   139279   139338   139401   139476   139571   139682  \n",
      "13    409582   409667   409735   409818   409936   410004   410059  \n",
      "14    334312   334341   334374   334425   334488   334518   334543  \n",
      "15    275270   276919   278488   280074   281489   282964   284418  \n",
      "16    197502   197529   197549   197585   197628   197647   197670  \n",
      "17    926573   926758   926979   927230   927447   927751   928182  \n",
      "18    155098   155144   155170   155214   155281   155345   155422  \n",
      "19    192991   193007   193027   193038   193053   193089   193101  \n",
      "20     64760    64772    64789    64803    64810    64823    64838  \n",
      "21    133685   133754   133826   133882   133928   133983   134037  \n",
      "22    144965   144991   145007   145022   145037   145052   145071  \n",
      "23    115849   115909   115988   116083   116177   116244   116338  \n",
      "24     81735    81740    81746    81755    81760    81770    81784  \n",
      "25    389445   389504   389558   389618   389684   389746   389813  \n",
      "26    203215   203265   203352   203411   203461   203531   203610  \n",
      "27     41409    41419    41431    41453    41472    41481    41492  \n",
      "28    110567   110581   110595   110606   110619   110630   110639  \n",
      "29     95215    95288    95324    95365    95451    95517    95565  \n",
      "..       ...      ...      ...      ...      ...      ...      ...  \n",
      "886   277663   277691   277720   277745   277757   277770   277788  \n",
      "887   101400   101409   101415   101425   101432   101443   101480  \n",
      "888   285270   285294   285318   285375   285447   285488   285513  \n",
      "889   136720   136729   136738   136755   136763   136774   136782  \n",
      "890   142257   142292   142344   142382   142409   142429   142452  \n",
      "891   151508   151515   151519   151526   151533   151536   151547  \n",
      "892   239932   239935   239939   239944   239947   239951   239958  \n",
      "893   338737   338769   338844   338901   338977   339089   339166  \n",
      "894  3290635  3292988  3295336  3297546  3299974  3302386  3304682  \n",
      "895   360756   360775   360796   360813   360833   360848   360859  \n",
      "896   346962   346985   347058   347114   347165   347199   347231  \n",
      "897   392326   392485   392626   392765   392921   393128   393267  \n",
      "898   110405   110415   110441   110456   110478   110499   110530  \n",
      "899   568335   572689   576855   580698   584572   588639   592455  \n",
      "900   554573   557886   560660   563507   566076   568461   570081  \n",
      "901   214675   214691   214705   214719   214766   214791   214811  \n",
      "902   160159   160175   160196   160208   160211   160219   160228  \n",
      "903   153824   153857   153883   153942   153966   153982   153989  \n",
      "904  1539580  1539838  1540152  1540543  1540968  1541392  1541960  \n",
      "905   164235   164252   164267   164279   164290   164304   164318  \n",
      "906  1432068  1436120  1440310  1444200  1448476  1453465  1458192  \n",
      "907   222473   222487   222500   222527   222557   222578   222593  \n",
      "908   466808   466841   466943   467011   467073   467170   467242  \n",
      "909   117451   117507   117520   117520   117536   117536   117536  \n",
      "910  2358201  2358287  2358395  2358574  2358696  2358802  2358912  \n",
      "911  4675950  4677634  4679160  4680782  4682531  4684497  4686390  \n",
      "912  1250142  1250948  1251741  1252574  1253463  1254370  1255286  \n",
      "913   241994   241998   242006   242016   242021   242032   242045  \n",
      "914   808204   808429   808602   808648   808800   808859   808912  \n",
      "915   200367   200384   200389   200399   200403   200411   200418  \n",
      "\n",
      "[916 rows x 169 columns]\n"
     ]
    }
   ],
   "source": [
    "row_data_views = pd.read_csv( \"./data.csv\", header=None )\n",
    "print row_data_views"
   ]
  },
  {
   "cell_type": "code",
   "execution_count": 59,
   "metadata": {
    "collapsed": false
   },
   "outputs": [
    {
     "name": "stdout",
     "output_type": "stream",
     "text": [
      "376765.517467\n",
      "613303.341703\n",
      "743209.837336\n"
     ]
    }
   ],
   "source": [
    "print row_data_views[24].mean()\n",
    "print row_data_views[72].mean()\n",
    "print row_data_views[168].mean()"
   ]
  },
  {
   "cell_type": "markdown",
   "metadata": {},
   "source": [
    "Means for v(n) n = 24, 72 and 168 doesn't seem to be linear with time. What may be cause of this?"
   ]
  },
  {
   "cell_type": "code",
   "execution_count": 60,
   "metadata": {
    "collapsed": false
   },
   "outputs": [
    {
     "name": "stdout",
     "output_type": "stream",
     "text": [
      "194357.5\n",
      "237417.5\n",
      "252287.0\n"
     ]
    }
   ],
   "source": [
    "print row_data_views[24].median()\n",
    "print row_data_views[72].median()\n",
    "print row_data_views[168].median()"
   ]
  },
  {
   "cell_type": "code",
   "execution_count": 65,
   "metadata": {
    "collapsed": false
   },
   "outputs": [
    {
     "name": "stdout",
     "output_type": "stream",
     "text": [
      "923646.739985\n",
      "1653969.42332\n",
      "2007963.83121\n"
     ]
    }
   ],
   "source": [
    "print row_data_views[24].std()\n",
    "print row_data_views[72].std()\n",
    "print row_data_views[168].std()"
   ]
  },
  {
   "cell_type": "code",
   "execution_count": 61,
   "metadata": {
    "collapsed": false
   },
   "outputs": [
    {
     "name": "stdout",
     "output_type": "stream",
     "text": [
      "[0 48059 61152 70036 77636 84999 91436 96926 101260 105229 108673 111748\n",
      " 114576 116909 118761 120096 121465 122625 123783 124872 126123 127324\n",
      " 128606 129788 131026 131980 132861 133657 134323 134963 135572 136215\n",
      " 136868 137447 138096 138703 139141 139460 139704 139871 140076 140204\n",
      " 140282 140378 140470 140596 140766 141023 141204 141374 141524 141705\n",
      " 141833 141930 142027 142186 142303 142388 142534 142644 142759 142827\n",
      " 142869 142959 142995 143041 143065 143094 143118 143145 143176 143270\n",
      " 143304 143381 143446 143505 143563 143614 143682 143746 143791 143821\n",
      " 143889 143944 143993 144026 144063 144096 144118 144140 144154 144164\n",
      " 144181 144194 144212 144224 144263 144287 144304 144324 144361 144381\n",
      " 144403 144421 144465 144523 144540 144590 144684 144734 144785 144824\n",
      " 144849 144872 144889 144909 144932 144958 144978 144997 145016 145050\n",
      " 145095 145128 145152 145175 145199 145212 145233 145289 145311 145344\n",
      " 145367 145398 145449 145460 145479 145510 145524 145545 145557 145570\n",
      " 145581 145605 145638 145661 145679 145712 145757 145801 145866 146050\n",
      " 146190 146362 146446 146477 146524 146591 146636 146673 146698 146731\n",
      " 146745 146779 146801 146834 146862 146880]\n"
     ]
    }
   ],
   "source": [
    "print list(row_data_views.values)[0][1:]"
   ]
  },
  {
   "cell_type": "markdown",
   "metadata": {},
   "source": [
    "Below I display how views evolved with time for one movie."
   ]
  },
  {
   "cell_type": "code",
   "execution_count": 62,
   "metadata": {
    "collapsed": false
   },
   "outputs": [
    {
     "data": {
      "image/png": "[encoded data removed]",
      "text/plain": [
       "<matplotlib.figure.Figure at 0x7f49b4c96650>"
      ]
     },
     "metadata": {},
     "output_type": "display_data"
    },
    {
     "data": {
      "text/plain": [
       "<function __main__.plot_one_row_data_views>"
      ]
     },
     "execution_count": 62,
     "metadata": {},
     "output_type": "execute_result"
    }
   ],
   "source": [
    "%matplotlib inline\n",
    "def plot_one_row_data_views( movie_number_10 ):\n",
    "    for movie_number in range( movie_number_10, movie_number_10 + 9 ):\n",
    "        py.plot( list( row_data_views.values )[ movie_number ][ 1: ] ) \n",
    "    py.show()\n",
    "\n",
    "interact( plot_one_row_data_views, movie_number_10 = ( 0, int( len( row_data_views ) ) / 10 - 1, 1 ) )"
   ]
  },
  {
   "cell_type": "code",
   "execution_count": 63,
   "metadata": {
    "collapsed": false
   },
   "outputs": [
    {
     "data": {
      "image/png": "[encoded data removed]",
      "text/plain": [
       "<matplotlib.figure.Figure at 0x7f49a8288410>"
      ]
     },
     "metadata": {},
     "output_type": "display_data"
    }
   ],
   "source": [
    "py.plot( list( row_data_views[168].values.T ), \".\" ) \n",
    "py.show()"
   ]
  },
  {
   "cell_type": "markdown",
   "metadata": {},
   "source": [
    "## 2) Plot the distribution of the v(168). How would you describe the distribution of the views?\n",
    "\n",
    "### Note: \n",
    "- I can calculate mean and variance in oredr to describe distribution of the views."
   ]
  },
  {
   "cell_type": "code",
   "execution_count": null,
   "metadata": {
    "collapsed": true
   },
   "outputs": [],
   "source": []
  },
  {
   "cell_type": "markdown",
   "metadata": {},
   "source": [
    "## 3) Plot the distribution of the log transformed v(168). Does it ring a bell?\n",
    "\n",
    "### Question What mean log transformed? Why log transformed?\n",
    "\n",
    "Log transformed means log( variable )"
   ]
  },
  {
   "cell_type": "code",
   "execution_count": null,
   "metadata": {
    "collapsed": true
   },
   "outputs": [],
   "source": []
  }
 ],
 "metadata": {
  "kernelspec": {
   "display_name": "Python 2",
   "language": "python",
   "name": "python2"
  },
  "language_info": {
   "codemirror_mode": {
    "name": "ipython",
    "version": 2
   },
   "file_extension": ".py",
   "mimetype": "text/x-python",
   "name": "python",
   "nbconvert_exporter": "python",
   "pygments_lexer": "ipython2",
   "version": "2.7.10"
  }
 },
 "nbformat": 4,
 "nbformat_minor": 0
}
